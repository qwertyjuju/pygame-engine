{
 "cells": [
  {
   "cell_type": "code",
   "execution_count": null,
   "metadata": {},
   "outputs": [],
   "source": [
    "import configparser\n",
    "\n",
    "data = {}\n",
    "conf= configparser.ConfigParser()\n",
    "conf.read('settings.ini')\n",
    "print(conf.sections())\n",
    "int(conf['Settings']['tasoeur'])\n"
   ]
  },
  {
   "cell_type": "code",
   "execution_count": null,
   "metadata": {},
   "outputs": [],
   "source": [
    "import json\n",
    "with open('worldcopy.json') as file:\n",
    "    data = json.load(file)\n",
    "    \n",
    "for mapobject in data['layers'][1]['objects']:\n",
    "    polygon= mapobject['polygon']\n",
    "    for point in polygon:\n",
    "        point['x'] = int(point['x'])\n",
    "        point['y'] = int(point['y'])\n",
    "        \n",
    "print(data['layers'][1]['objects'])\n",
    "with open('worldcopy.json', 'w') as file:\n",
    "    json.dump(data, file, indent =4)\n"
   ]
  },
  {
   "cell_type": "code",
   "execution_count": null,
   "metadata": {},
   "outputs": [],
   "source": [
    "import json\n",
    "with open('.\\data\\workspace\\world.json')as file:\n",
    "    data = json.load(file)\n",
    "    \n",
    "print(data)"
   ]
  },
  {
   "cell_type": "code",
   "execution_count": null,
   "metadata": {},
   "outputs": [],
   "source": [
    "import pygame as pg\n",
    "import sys\n",
    "\n",
    "\n",
    "def main(sheight,swidth):\n",
    "    pg.init()\n",
    "    screen = pg.display.set_mode((sheight, swidth))\n",
    "    timer = pg.time.Clock()\n",
    "    gamerunning = True\n",
    "    fpslist = []\n",
    "    while True:\n",
    "        for event in pg.event.get():\n",
    "            if event.type == pg.QUIT:\n",
    "                pg.quit()\n",
    "                return fpslist\n",
    "        screen.fill((0,0,0))\n",
    "        pg.display.flip()\n",
    "        timer.tick()\n",
    "        fps= timer.get_fps()\n",
    "        if len(fpslist)<10000:\n",
    "            fpslist.append(fps)\n",
    "        else:\n",
    "            pg.quit()\n",
    "            return fpslist\n",
    "        fps = str(fps)\n",
    "        pg.display.set_caption(fps)\n",
    "\n",
    "        \n",
    "\n",
    "fpslist = main(1500,1000)\n",
    "sumfps=0\n",
    "for fps in fpslist:\n",
    "    sumfps+=fps\n",
    "moyfps= sumfps/len(fpslist)\n",
    "print(moyfps)"
   ]
  },
  {
   "cell_type": "code",
   "execution_count": null,
   "metadata": {},
   "outputs": [],
   "source": []
  },
  {
   "cell_type": "code",
   "execution_count": null,
   "metadata": {},
   "outputs": [],
   "source": [
    "class testm:\n",
    "    def __init__(self):\n",
    "        print('test1')\n",
    "        \n",
    "class testd (testm):\n",
    "    pass\n",
    "\n",
    "test = testm()"
   ]
  },
  {
   "cell_type": "code",
   "execution_count": null,
   "metadata": {},
   "outputs": [],
   "source": [
    "a=250"
   ]
  },
  {
   "cell_type": "code",
   "execution_count": null,
   "metadata": {},
   "outputs": [],
   "source": [
    "b=10000"
   ]
  },
  {
   "cell_type": "code",
   "execution_count": null,
   "metadata": {},
   "outputs": [],
   "source": [
    "c=b"
   ]
  },
  {
   "cell_type": "code",
   "execution_count": null,
   "metadata": {},
   "outputs": [],
   "source": [
    "c"
   ]
  },
  {
   "cell_type": "code",
   "execution_count": null,
   "metadata": {},
   "outputs": [],
   "source": [
    "class foo:\n",
    "    test =1\n",
    "    \n",
    "    def changetest(self):\n",
    "        foo.test +=1\n",
    "        \n",
    "    def printcls(self):\n",
    "        print(self.__class__)\n",
    "        \n",
    "    def createattr(self):\n",
    "        self.__class__.data = None\n",
    "        \n",
    "    def printdata(self):\n",
    "        print(self.data)\n",
    "        \n",
    "    def modifydata(self,value):\n",
    "        self.__class__.data = value\n",
    "class foot(foo):\n",
    "    dic = {1:'test'}\n",
    "    pass\n",
    "\n",
    "class foot2(foo):\n",
    "    pass\n",
    "    "
   ]
  },
  {
   "cell_type": "code",
   "execution_count": null,
   "metadata": {},
   "outputs": [],
   "source": [
    "f= foot2()"
   ]
  },
  {
   "cell_type": "code",
   "execution_count": null,
   "metadata": {},
   "outputs": [],
   "source": [
    "d = foot()"
   ]
  },
  {
   "cell_type": "code",
   "execution_count": null,
   "metadata": {},
   "outputs": [],
   "source": [
    "f.printcls()"
   ]
  },
  {
   "cell_type": "code",
   "execution_count": null,
   "metadata": {},
   "outputs": [],
   "source": [
    "d.printcls()"
   ]
  },
  {
   "cell_type": "code",
   "execution_count": null,
   "metadata": {},
   "outputs": [],
   "source": [
    "d.createattr()"
   ]
  },
  {
   "cell_type": "code",
   "execution_count": null,
   "metadata": {},
   "outputs": [],
   "source": [
    "print(d.data)"
   ]
  },
  {
   "cell_type": "code",
   "execution_count": null,
   "metadata": {},
   "outputs": [],
   "source": [
    "print(f.data)"
   ]
  },
  {
   "cell_type": "code",
   "execution_count": null,
   "metadata": {},
   "outputs": [],
   "source": [
    "d.printdata()"
   ]
  },
  {
   "cell_type": "code",
   "execution_count": null,
   "metadata": {},
   "outputs": [],
   "source": [
    "g = foot()"
   ]
  },
  {
   "cell_type": "code",
   "execution_count": null,
   "metadata": {},
   "outputs": [],
   "source": [
    "print(g.data)"
   ]
  },
  {
   "cell_type": "code",
   "execution_count": null,
   "metadata": {},
   "outputs": [],
   "source": [
    "g.modifydata(33)"
   ]
  },
  {
   "cell_type": "code",
   "execution_count": null,
   "metadata": {},
   "outputs": [],
   "source": [
    "from game import Engine\n",
    "\n",
    "def main():        \n",
    "    g=Engine('settings.json')\n",
    "    g.run()\n",
    "\n",
    "main()"
   ]
  },
  {
   "cell_type": "code",
   "execution_count": null,
   "metadata": {},
   "outputs": [],
   "source": [
    "import os\n",
    "path =\".\\data\\workspace\\world.json\"\n",
    "name = os.path.split(path)[1]\n",
    "ext = os.path.splitext(name)[0]\n",
    "print(path)\n",
    "print(name)\n",
    "print(ext)"
   ]
  },
  {
   "cell_type": "code",
   "execution_count": null,
   "metadata": {},
   "outputs": [],
   "source": [
    "class foo:\n",
    "    def __init__(self):\n",
    "        pass\n",
    "    \n",
    "class foot(foo):\n",
    "    pass\n",
    "\n",
    "class foott(foot):\n",
    "    pass\n",
    "\n",
    "class foottt(foott):\n",
    "    pass\n",
    "\n",
    "class footttt(foott):\n",
    "    pass\n",
    "\n",
    "class foottt(foo):\n",
    "    pass"
   ]
  },
  {
   "cell_type": "code",
   "execution_count": null,
   "metadata": {},
   "outputs": [],
   "source": [
    "foo.__subclasses__()"
   ]
  },
  {
   "cell_type": "code",
   "execution_count": null,
   "metadata": {},
   "outputs": [],
   "source": [
    "def get_subclass(cls):\n",
    "    return cls.__subclasses__()"
   ]
  },
  {
   "cell_type": "code",
   "execution_count": null,
   "metadata": {},
   "outputs": [],
   "source": [
    "def get_subclasses(cls):\n",
    "    classes={}\n",
    "    for subclass in get_subclass(cls):\n",
    "        subclassname = subclass.__name__\n",
    "        classes[subclassname]= subclass\n",
    "        if get_subclass(subclass):\n",
    "            classes.update(get_subclasses(subclass))\n",
    "    return classes"
   ]
  },
  {
   "cell_type": "code",
   "execution_count": null,
   "metadata": {},
   "outputs": [],
   "source": [
    "get_subclasses(foo)"
   ]
  },
  {
   "cell_type": "code",
   "execution_count": null,
   "metadata": {},
   "outputs": [],
   "source": [
    "import gameentity\n",
    "import gameobjects"
   ]
  },
  {
   "cell_type": "code",
   "execution_count": null,
   "metadata": {},
   "outputs": [],
   "source": [
    "get_subclasses(gameentity.GameEntity)"
   ]
  },
  {
   "cell_type": "code",
   "execution_count": null,
   "metadata": {},
   "outputs": [],
   "source": []
  },
  {
   "cell_type": "code",
   "execution_count": null,
   "metadata": {},
   "outputs": [],
   "source": [
    "import os, sys, inspect\n",
    "currentdir =os.path.dirname(os.path.abspath(inspect.getfile(inspect.currentframe())))+'\\\\src'\n",
    "print(currentdir)"
   ]
  },
  {
   "cell_type": "code",
   "execution_count": null,
   "metadata": {},
   "outputs": [],
   "source": [
    "class foo:\n",
    "    def __new__(cls, *args,**kwargs):\n",
    "        if args[0] ==1:\n",
    "            print('args 0 is 1')\n",
    "            return\n",
    "        else:\n",
    "            return super().__new__(cls,*args, **kwargs)\n",
    "        \n",
    "    def __init__(self,*args,**kwargs):\n",
    "        print(args)\n",
    "        "
   ]
  },
  {
   "cell_type": "code",
   "execution_count": null,
   "metadata": {},
   "outputs": [],
   "source": [
    "f = foo(0,7,8,9)"
   ]
  },
  {
   "cell_type": "code",
   "execution_count": null,
   "metadata": {},
   "outputs": [],
   "source": [
    "type(f)"
   ]
  },
  {
   "cell_type": "code",
   "execution_count": null,
   "metadata": {},
   "outputs": [],
   "source": [
    "import gameentity as ge"
   ]
  },
  {
   "cell_type": "code",
   "execution_count": null,
   "metadata": {},
   "outputs": [],
   "source": [
    "import gameobjects"
   ]
  },
  {
   "cell_type": "code",
   "execution_count": null,
   "metadata": {},
   "outputs": [],
   "source": [
    "ge.GameEntity.get_subclasses()"
   ]
  },
  {
   "cell_type": "code",
   "execution_count": null,
   "metadata": {},
   "outputs": [],
   "source": [
    "ge.GameEntity.entitydict"
   ]
  },
  {
   "cell_type": "code",
   "execution_count": null,
   "metadata": {},
   "outputs": [],
   "source": [
    "import sys\n",
    "import pygame as pg\n",
    "\n",
    "def main(sheight,swidth):\n",
    "    pg.init()\n",
    "    screen = pg.display.set_mode((sheight, swidth))\n",
    "    image = pg.image.load('zdhDZJE.jpg').convert_alpha()\n",
    "    gamearea = GameArea((0,0),(500,500))\n",
    "    timer = pg.time.Clock()\n",
    "    while True:\n",
    "        for event in pg.event.get():\n",
    "            if event.type == pg.QUIT:\n",
    "                pg.quit()\n",
    "                sys.exit()\n",
    "        gamearea.clear()\n",
    "        gamearea.addtoblitlist(image,(0,0))\n",
    "        screen.fill((0,0,0))\n",
    "        screen.blits(gamearea.getblitlist())\n",
    "        pg.display.flip()\n",
    "        timer.tick()\n",
    "        fps = str(timer.get_fps())\n",
    "        pg.display.set_caption(fps)\n",
    "\n",
    "class GameArea:\n",
    "    def __init__(self, pos, size):\n",
    "        self.pos = pos\n",
    "        self.size =size\n",
    "        self.area = pos, size\n",
    "        self.blitlist = []\n",
    "        \n",
    "    def addtoblitlist(self, surface, pos):\n",
    "        self.blitlist.append((surface,pos,self.area))\n",
    "        \n",
    "    def clear(self):\n",
    "        self.blitlist.clear()\n",
    "        \n",
    "    def getblitlist(self):\n",
    "        return self.blitlist\n",
    "        \n",
    "    def __repr__(self):\n",
    "        return repr(self.blitlist)\n",
    "    \n",
    "    def __str__(self):\n",
    "        print('str')\n",
    "        return str(self.blitlist)\n",
    "    \n",
    "main(1800,1024)"
   ]
  },
  {
   "cell_type": "code",
   "execution_count": null,
   "metadata": {},
   "outputs": [],
   "source": [
    "import sys\n",
    "import pygame as pg\n",
    "\n",
    "def main(sheight,swidth):\n",
    "    pg.init()\n",
    "    screen = pg.display.set_mode((sheight, swidth))\n",
    "    image = pg.image.load('zdhDZJE.jpg').convert_alpha()\n",
    "    timer = pg.time.Clock()\n",
    "    while True:\n",
    "        for event in pg.event.get():\n",
    "            if event.type == pg.QUIT:\n",
    "                pg.quit()\n",
    "                sys.exit()\n",
    "        screen.fill((0,0,0))\n",
    "        pg.display.flip()\n",
    "        timer.tick()\n",
    "        fps = str(timer.get_fps())\n",
    "        pg.display.set_caption(fps)\n",
    "\n",
    "main(1800,1024)"
   ]
  },
  {
   "cell_type": "code",
   "execution_count": null,
   "metadata": {},
   "outputs": [],
   "source": [
    "import numpy as np\n",
    "mlist = [1,2,3,4,5,5,6,7,8,9,10,11]\n",
    "array =np.array(mlist).reshape(-1,4)\n",
    "#narray = np.reshape(array,(-1,2))\n",
    "print(array)"
   ]
  },
  {
   "cell_type": "code",
   "execution_count": null,
   "metadata": {},
   "outputs": [],
   "source": [
    "print(0/64)"
   ]
  },
  {
   "cell_type": "code",
   "execution_count": null,
   "metadata": {},
   "outputs": [],
   "source": [
    "import numpy as np\n",
    "array = np.array((5,6),dtype=object)\n",
    "print(array)"
   ]
  },
  {
   "cell_type": "code",
   "execution_count": null,
   "metadata": {},
   "outputs": [],
   "source": []
  },
  {
   "cell_type": "code",
   "execution_count": null,
   "metadata": {},
   "outputs": [],
   "source": []
  },
  {
   "cell_type": "code",
   "execution_count": null,
   "metadata": {},
   "outputs": [],
   "source": []
  },
  {
   "cell_type": "code",
   "execution_count": null,
   "metadata": {},
   "outputs": [],
   "source": [
    "import pathlib\n",
    "path = pathlib.Path('.\\\\data\\\\map\\\\map.json')\n",
    "print(path.parent)\n",
    "mpath=str(path)\n",
    "print(path)\n",
    "npath = mpath+'\\\\src'\n",
    "print(npath)"
   ]
  },
  {
   "cell_type": "code",
   "execution_count": null,
   "metadata": {},
   "outputs": [],
   "source": [
    "import src"
   ]
  },
  {
   "cell_type": "code",
   "execution_count": null,
   "metadata": {},
   "outputs": [],
   "source": [
    "import pygame as pg\n",
    "\n",
    "class GameImage:\n",
    "    def __init__(self, imageloc):\n",
    "        self.loc= imageloc\n",
    "        self.load()\n",
    "    \n",
    "    def load(self):\n",
    "        self.image = pg.image.load(self.loc).convert_alpha()\n",
    "        \n",
    "    def get_tile(self, x,y, size):\n",
    "        newsurf = pg.Surface(size).convert_alpha()\n",
    "        newsurf.blit(self.image,(-x,-y))\n",
    "        return newsurf\n",
    "    \n",
    "def main(sheight,swidth):\n",
    "    pg.init()\n",
    "    screen = pg.display.set_mode((sheight, swidth))\n",
    "    timer = pg.time.Clock()\n",
    "    image = GameImage('terrains.png')\n",
    "    imgsize = image.image.get_size()\n",
    "    surf = pg.Surface(imgsize)\n",
    "    for x in range(0,imgsize[0],64):\n",
    "        for y in range(0,imgsize[1],64):\n",
    "            surf.blit(image.get_tile(x,y,(64,64)),(x,y))\n",
    "    while True:\n",
    "        for event in pg.event.get():\n",
    "            if event.type == pg.QUIT:\n",
    "                pg.quit()\n",
    "            if event.type == pg.KEYDOWN:\n",
    "                if event.key == pg.K_d:\n",
    "                    surf.scroll(10,0)\n",
    "                if event.key == pg.K_q:\n",
    "                    surf.scroll(-10,0)\n",
    "                if event.key == pg.K_s:\n",
    "                    surf.scroll(0,10)\n",
    "                if event.key == pg.K_z:\n",
    "                    surf.scroll(0,-10)\n",
    "        screen.fill((0,0,0))\n",
    "        screen.blit(surf,(0,0))\n",
    "        pg.display.flip()\n",
    "        timer.tick()\n",
    "        fps= timer.get_fps()\n",
    "        fps = str(fps)\n",
    "        pg.display.set_caption(fps)\n",
    "\n",
    "main(1500,1000)"
   ]
  },
  {
   "cell_type": "code",
   "execution_count": null,
   "metadata": {},
   "outputs": [],
   "source": [
    "import numpy as np\n",
    "array = np.empty((3,3),dtype = object)\n",
    "print(array)"
   ]
  },
  {
   "cell_type": "code",
   "execution_count": null,
   "metadata": {},
   "outputs": [],
   "source": [
    "int(10.7)"
   ]
  },
  {
   "cell_type": "code",
   "execution_count": null,
   "metadata": {},
   "outputs": [],
   "source": [
    "import math, numpy\n",
    "numpy.ceil(3.4)"
   ]
  },
  {
   "cell_type": "code",
   "execution_count": null,
   "metadata": {},
   "outputs": [],
   "source": [
    "import numpy as np\n",
    "m = range(1,10)\n",
    "m = np.reshape(m,(3,3))\n",
    "print(m)\n",
    "for (row, column) in zip(range(3),[1,2,0]):\n",
    "    m[row][:column+1] = np.roll(m[row][:column+1], 3)\n",
    "print(m)"
   ]
  },
  {
   "cell_type": "code",
   "execution_count": null,
   "metadata": {},
   "outputs": [],
   "source": [
    "class foo:\n",
    "    def __new__(cls):\n",
    "        if issubclass(cls, foot):\n",
    "            print('ok')\n",
    "        return super().__new__(cls)\n",
    "    def __init__(self):\n",
    "        if isinstance(self,foot):\n",
    "            print('foot')\n",
    "\n",
    "class foot(foo):\n",
    "    def __init__(self):\n",
    "        super().__init__()\n",
    "class foott(foo):\n",
    "    def __init__(self):\n",
    "        super().__init__()\n",
    "        \n",
    "class test(foo):\n",
    "    def __init__(self):\n",
    "        super().__init__()"
   ]
  },
  {
   "cell_type": "code",
   "execution_count": null,
   "metadata": {},
   "outputs": [],
   "source": [
    "f=test()"
   ]
  },
  {
   "cell_type": "code",
   "execution_count": null,
   "metadata": {},
   "outputs": [],
   "source": [
    "import pygame as pg\n",
    "\n",
    "pg.init()\n",
    "screen = pg.display.set_mode((900,900))\n",
    "keys =[]\n",
    "while True:\n",
    "    for event in pg.event.get():\n",
    "        if event.type == pg.QUIT:\n",
    "            pg.quit()\n",
    "            break\n",
    "        if event.type == pg.MOUSEBUTTONDOWN:\n",
    "            print(event.pos,event.button,event)\n",
    "        if event.type == pg.MOUSEBUTTONUP:\n",
    "            print(event.pos,event.button,event)\n",
    "        print(pg.event.event_name(event.type))\n",
    "    pg.display.flip()"
   ]
  },
  {
   "cell_type": "code",
   "execution_count": null,
   "metadata": {},
   "outputs": [],
   "source": [
    "import pygame as pg\n",
    "mlist = ['backspace',\n",
    "'tab',\n",
    "'clear',\n",
    "'return',\n",
    "'pause',\n",
    "'escape',\n",
    "'space',\n",
    "'!',\n",
    "'\\\"',\n",
    "'#',\n",
    "'$',\n",
    "'ampersand',\n",
    "'quote',\n",
    "'(',\n",
    "')',\n",
    "'\\'',\n",
    "'+',\n",
    "',',\n",
    "'-',\n",
    "'.',\n",
    "'/',\n",
    "'0',\n",
    "'1',\n",
    "'2',\n",
    "'3',\n",
    "'4',\n",
    "'5',\n",
    "'6',\n",
    "'7',\n",
    "'8',\n",
    "'9',\n",
    "'colon',\n",
    "'semicolon',\n",
    "'<',\n",
    "'=',\n",
    "'>',\n",
    "'?',\n",
    "'@',\n",
    "'{',\n",
    "'\\\\',\n",
    "'}',\n",
    "'caret',\n",
    "'_',\n",
    "'grave',\n",
    "'a',\n",
    "'b',\n",
    "'c',\n",
    "'d',\n",
    "'e',\n",
    "'f',\n",
    "'g',\n",
    "'h',\n",
    "'i',\n",
    "'j',\n",
    "'k',\n",
    "'l',\n",
    "'m',\n",
    "'n',\n",
    "'o',\n",
    "'p',\n",
    "'q',\n",
    "'r',\n",
    "'s',\n",
    "'t',\n",
    "'u',\n",
    "'v',\n",
    "'w',\n",
    "'x',\n",
    "'y',\n",
    "'z',\n",
    "'delete',\n",
    "'keypad 0',\n",
    "'keypad 1',\n",
    "'keypad 2',\n",
    "'keypad 3',\n",
    "'keypad 4',\n",
    "'keypad 5',\n",
    "'keypad 6',\n",
    "'keypad 7',\n",
    "'keypad 8',\n",
    "'keypad 9',\n",
    "'keypad period',\n",
    "'keypad divide',\n",
    "'keypad multiply',\n",
    "'keypad minus',\n",
    "'keypad plus',\n",
    "'keypad enter',\n",
    "'keypad equals',\n",
    "'up arrow',\n",
    "'down arrow',\n",
    "'right arrow',\n",
    "'left arrow',\n",
    "'insert',\n",
    "'home',\n",
    "'end',\n",
    "'page up',\n",
    "'page down',\n",
    "'F1',\n",
    "'F2',\n",
    "'F3',\n",
    "'F4',\n",
    "'F5',\n",
    "'F6',\n",
    "'F7',\n",
    "'F8',\n",
    "'F9',\n",
    "'F10',\n",
    "'F11',\n",
    "'F12',\n",
    "'F13',\n",
    "'F14',\n",
    "'F15',\n",
    "'numlock',\n",
    "'capslock',\n",
    "'scrollock',\n",
    "'right shift',\n",
    "'left shift',\n",
    "'right control',\n",
    "'left control',\n",
    "'right alt',\n",
    "'left alt',\n",
    "'right meta',\n",
    "'left meta',\n",
    "'left Windows key',\n",
    "'right Windows key',\n",
    "'mode shift',\n",
    "'help',\n",
    "'print screen',\n",
    "'sysrq',\n",
    "'break',\n",
    "'menu',\n",
    "'power',\n",
    "'Euro']\n",
    "pg.init()\n",
    "screen = pg.display.set_mode((900,900))\n",
    "for event in mlist:\n",
    "    try:\n",
    "        value = pg.key.key_code(event)\n",
    "    except ValueError:\n",
    "        print(event,'does not exist')\n",
    "    else:\n",
    "        print(event,':',value)"
   ]
  },
  {
   "cell_type": "code",
   "execution_count": null,
   "metadata": {},
   "outputs": [],
   "source": [
    "mdict={\n",
    "    'test':3,\n",
    "    'testt':10,\n",
    "    'testtt':11\n",
    "}\n",
    "values = mdict.values()\n",
    "print(values)\n",
    "mdict['testttttt']= 'TEARERERE'\n",
    "print(values)"
   ]
  },
  {
   "cell_type": "code",
   "execution_count": null,
   "metadata": {},
   "outputs": [],
   "source": [
    "class test:\n",
    "    a = True\n",
    "    def __new__(cls,*args,**kwargs):\n",
    "        if test.a:\n",
    "            return\n",
    "        else:\n",
    "            return super().__new__(cls)\n",
    "        \n",
    "    def __init__(self, a,b):\n",
    "        pass\n",
    "    \n",
    "    @classmethod\n",
    "    def init(cls):\n",
    "        print(cls)"
   ]
  },
  {
   "cell_type": "code",
   "execution_count": null,
   "metadata": {},
   "outputs": [],
   "source": [
    "t = test(1,3)"
   ]
  },
  {
   "cell_type": "code",
   "execution_count": null,
   "metadata": {},
   "outputs": [],
   "source": [
    "t.init()"
   ]
  },
  {
   "cell_type": "code",
   "execution_count": 3,
   "metadata": {},
   "outputs": [
    {
     "name": "stdout",
     "output_type": "stream",
     "text": [
      "aaaa\n"
     ]
    },
    {
     "ename": "NameError",
     "evalue": "name 'a' is not defined",
     "output_type": "error",
     "traceback": [
      "\u001b[1;31m---------------------------------------------------------------------------\u001b[0m",
      "\u001b[1;31mNameError\u001b[0m                                 Traceback (most recent call last)",
      "\u001b[1;32m<ipython-input-3-a603a592a0ff>\u001b[0m in \u001b[0;36m<module>\u001b[1;34m\u001b[0m\n\u001b[0;32m     18\u001b[0m \u001b[0ma\u001b[0m \u001b[1;33m=\u001b[0m \u001b[0mweakref\u001b[0m\u001b[1;33m.\u001b[0m\u001b[0mref\u001b[0m\u001b[1;33m(\u001b[0m\u001b[0mfoo\u001b[0m\u001b[1;33m(\u001b[0m\u001b[1;33m)\u001b[0m\u001b[1;33m)\u001b[0m\u001b[1;33m\u001b[0m\u001b[1;33m\u001b[0m\u001b[0m\n\u001b[0;32m     19\u001b[0m \u001b[1;32mdel\u001b[0m \u001b[0ma\u001b[0m\u001b[1;33m\u001b[0m\u001b[1;33m\u001b[0m\u001b[0m\n\u001b[1;32m---> 20\u001b[1;33m \u001b[0ma\u001b[0m\u001b[1;33m\u001b[0m\u001b[1;33m\u001b[0m\u001b[0m\n\u001b[0m",
      "\u001b[1;31mNameError\u001b[0m: name 'a' is not defined"
     ]
    }
   ],
   "source": [
    "import weakref\n",
    "class foo:\n",
    "    mdict = []\n",
    "    def __init__(self):\n",
    "        print('aaaa')\n",
    "        self.i=9\n",
    "        foo.mdict.append(self)\n",
    "        \n",
    "    def init(self):\n",
    "        return self.i\n",
    "        #return weakref.ref(self)\n",
    "        \n",
    "    def delete(self):\n",
    "        del foo.mdict[0]\n",
    "        \n",
    "    def __del__(self):\n",
    "        print('deleted')\n",
    "a = weakref.ref(foo())\n",
    "del a\n",
    "a"
   ]
  },
  {
   "cell_type": "code",
   "execution_count": null,
   "metadata": {},
   "outputs": [],
   "source": [
    "print(foo.mdict)"
   ]
  },
  {
   "cell_type": "code",
   "execution_count": null,
   "metadata": {},
   "outputs": [],
   "source": [
    "a.delete()"
   ]
  },
  {
   "cell_type": "code",
   "execution_count": null,
   "metadata": {},
   "outputs": [],
   "source": []
  }
 ],
 "metadata": {
  "kernelspec": {
   "display_name": "Python 3",
   "language": "python",
   "name": "python3"
  },
  "language_info": {
   "codemirror_mode": {
    "name": "ipython",
    "version": 3
   },
   "file_extension": ".py",
   "mimetype": "text/x-python",
   "name": "python",
   "nbconvert_exporter": "python",
   "pygments_lexer": "ipython3",
   "version": "3.9.2"
  }
 },
 "nbformat": 4,
 "nbformat_minor": 4
}
